{
 "cells": [
  {
   "cell_type": "markdown",
   "metadata": {},
   "source": [
    "# Division with error handling"
   ]
  },
  {
   "cell_type": "code",
   "execution_count": null,
   "metadata": {},
   "outputs": [
    {
     "name": "stdout",
     "output_type": "stream",
     "text": [
      "The result of 90.0 divided by 5.0 is: 18.0.\n"
     ]
    }
   ],
   "source": [
    "# Taking input from the user\n",
    "a = float(input(\"Enter the first number:\"))\n",
    "b = float(input(\"Enter the second number:\"))\n",
    "\n",
    "try:\n",
    "    result = a / b\n",
    "\n",
    "except ZeroDivisionError:\n",
    "    print(\"Error: Division by zero is not allowed.\")    # When there is zero\n",
    "\n",
    "else:\n",
    "    print(f\"The result of {a} divided by {b} is: {result}.\")     # Printing the result"
   ]
  },
  {
   "cell_type": "markdown",
   "metadata": {},
   "source": [
    "# Integer Input Validation"
   ]
  },
  {
   "cell_type": "code",
   "execution_count": 1,
   "metadata": {},
   "outputs": [
    {
     "name": "stdout",
     "output_type": "stream",
     "text": [
      "Invalid input, please enter an integer.\n"
     ]
    }
   ],
   "source": [
    "# Asking the user to input an integer\n",
    "user_input = input(\"Enter an integer:\")       # input = abc\n",
    "\n",
    "try:\n",
    "    user_integer = int(user_input)   # to convert into integer\n",
    "\n",
    "except ValueError:\n",
    "    print(\"Invalid input, please enter an integer.\")   # when the input is not an integer\n",
    "\n",
    "else:\n",
    "    print(f\"The integer is: {user_integer}\")"
   ]
  },
  {
   "cell_type": "markdown",
   "metadata": {},
   "source": [
    "# File Not Found Error Handling"
   ]
  },
  {
   "cell_type": "code",
   "execution_count": 2,
   "metadata": {},
   "outputs": [
    {
     "name": "stdout",
     "output_type": "stream",
     "text": [
      "Error: The file 'unknown.txt' was not found.\n"
     ]
    }
   ],
   "source": [
    "try:           # To open the file\n",
    "    with open('unknown.text', 'r') as file:\n",
    "        content = file.read()      # If file exists, read and print its contents\n",
    "        print(content)\n",
    "        \n",
    "except FileNotFoundError:           # if the file is not found\n",
    "    print(\"Error: The file 'unknown.txt' was not found.\")\n"
   ]
  }
 ],
 "metadata": {
  "kernelspec": {
   "display_name": "Python 3",
   "language": "python",
   "name": "python3"
  },
  "language_info": {
   "codemirror_mode": {
    "name": "ipython",
    "version": 3
   },
   "file_extension": ".py",
   "mimetype": "text/x-python",
   "name": "python",
   "nbconvert_exporter": "python",
   "pygments_lexer": "ipython3",
   "version": "3.11.0"
  }
 },
 "nbformat": 4,
 "nbformat_minor": 2
}
