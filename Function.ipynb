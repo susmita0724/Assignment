{
 "cells": [
  {
   "cell_type": "markdown",
   "metadata": {},
   "source": [
    "# Function factorial"
   ]
  },
  {
   "cell_type": "code",
   "execution_count": null,
   "metadata": {},
   "outputs": [
    {
     "name": "stdout",
     "output_type": "stream",
     "text": [
      "The factorial of a 4 is: 24 \n"
     ]
    }
   ],
   "source": [
    "def factorial(n):\n",
    "    result = 1 # initialize result as 1(since the factorial of 0 and 1 is 1)\n",
    "\n",
    "    for i in range(1, n+1):\n",
    "        result*=i  # multiply result by i in each iteration\n",
    "    return result\n",
    "\n",
    "#take a input from user\n",
    "number = int(input(\"Enter a number:\"))   #input is 4.\n",
    "print(f\"The factorial of a {number} is: {factorial(number)} \")"
   ]
  },
  {
   "cell_type": "markdown",
   "metadata": {},
   "source": [
    "# Prime check function"
   ]
  },
  {
   "cell_type": "code",
   "execution_count": null,
   "metadata": {},
   "outputs": [
    {
     "name": "stdout",
     "output_type": "stream",
     "text": [
      "True.\n"
     ]
    }
   ],
   "source": [
    "def is_prime(n):\n",
    "    if n <=1:\n",
    "        return False\n",
    "    \n",
    "    for i in range(2, int(n **0.5) + 1):\n",
    "        if n % i == 0:   # if n is divisible by i, its not a prime\n",
    "            return False\n",
    "    return True  # if no divisidors are found, it is a prime \n",
    "\n",
    "number = int(input(\"Enter a number:\")) # take input from the user  #input = 7.\n",
    "if is_prime (number):  # display the result\n",
    "    print(f\"True.\")\n",
    "else:\n",
    "    print(f\"False.\")\n"
   ]
  },
  {
   "cell_type": "markdown",
   "metadata": {},
   "source": [
    "# Find maximum in list"
   ]
  },
  {
   "cell_type": "code",
   "execution_count": 6,
   "metadata": {},
   "outputs": [
    {
     "name": "stdout",
     "output_type": "stream",
     "text": [
      "7\n"
     ]
    }
   ],
   "source": [
    "def find_max(lst):\n",
    "    max_value = lst[0]  #initialize the first element as the maximum\n",
    "\n",
    "    #iterate through the list to find the maximum\n",
    "    for num in lst:\n",
    "        if num > max_value:\n",
    "            max_value = num\n",
    "    return max_value\n",
    "\n",
    "# Taking input\n",
    "numbers = [1, 3, 7, 0]\n",
    "max_value = find_max(numbers)\n",
    "print(max_value)  # Output=7"
   ]
  },
  {
   "cell_type": "markdown",
   "metadata": {},
   "source": [
    "# Palindrome or not"
   ]
  },
  {
   "cell_type": "code",
   "execution_count": 8,
   "metadata": {},
   "outputs": [
    {
     "name": "stdout",
     "output_type": "stream",
     "text": [
      "True\n"
     ]
    }
   ],
   "source": [
    "def palindrome_check(string):\n",
    "    return string == string[::-1]  # compare the string with its reverse\n",
    "result = palindrome_check(\"radar\")\n",
    "print(result)\n"
   ]
  },
  {
   "cell_type": "markdown",
   "metadata": {},
   "source": [
    "# Sum of squares"
   ]
  },
  {
   "cell_type": "code",
   "execution_count": 12,
   "metadata": {},
   "outputs": [
    {
     "name": "stdout",
     "output_type": "stream",
     "text": [
      "14\n"
     ]
    }
   ],
   "source": [
    "def sum_of_squares(n):\n",
    "    return sum(i**2 for i in range(1, n+1))   # sum the squares of number from  to n\n",
    "result = sum_of_squares(3)  #input=3\n",
    "print(result)"
   ]
  },
  {
   "cell_type": "code",
   "execution_count": null,
   "metadata": {},
   "outputs": [],
   "source": []
  }
 ],
 "metadata": {
  "kernelspec": {
   "display_name": "Python 3",
   "language": "python",
   "name": "python3"
  },
  "language_info": {
   "codemirror_mode": {
    "name": "ipython",
    "version": 3
   },
   "file_extension": ".py",
   "mimetype": "text/x-python",
   "name": "python",
   "nbconvert_exporter": "python",
   "pygments_lexer": "ipython3",
   "version": "3.11.0"
  }
 },
 "nbformat": 4,
 "nbformat_minor": 2
}
