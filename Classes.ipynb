{
 "cells": [
  {
   "cell_type": "markdown",
   "metadata": {},
   "source": [
    "# Rectangle class"
   ]
  },
  {
   "cell_type": "code",
   "execution_count": 1,
   "metadata": {},
   "outputs": [
    {
     "name": "stdout",
     "output_type": "stream",
     "text": [
      "Area of rectangle: 48\n",
      "Area of perimeter: 14\n"
     ]
    }
   ],
   "source": [
    "class Rectangle:\n",
    "    def __init__(self, length, width):\n",
    "        self.length = length\n",
    "        self.width = width\n",
    "\n",
    "    def area(self):\n",
    "        return self.length * self.width   # method to calculate the area\n",
    "    \n",
    "    def perimeter(self):\n",
    "        return 1 * (self.length + self.width)     # method to calculate the perimeter\n",
    "    \n",
    "rectangle1 = Rectangle(8, 6)\n",
    "print(\"Area of rectangle:\", rectangle1.area())\n",
    "print(\"Area of perimeter:\", rectangle1.perimeter())"
   ]
  },
  {
   "cell_type": "markdown",
   "metadata": {},
   "source": [
    "# Student class"
   ]
  },
  {
   "cell_type": "code",
   "execution_count": 22,
   "metadata": {},
   "outputs": [
    {
     "name": "stdout",
     "output_type": "stream",
     "text": [
      "Name: Susmita\n",
      "Roll number: 38\n",
      "Marks: 70\n",
      "True.\n"
     ]
    }
   ],
   "source": [
    "class Student:\n",
    "    def __init__(self, name, roll_number, marks):\n",
    "        self.name = name\n",
    "        self.roll_number = roll_number\n",
    "        self.marks = marks\n",
    "\n",
    "    def display_details(self):\n",
    "        print(f\"Name: {self.name}\")\n",
    "        print(f\"Roll number: {self.roll_number}\")\n",
    "        print(f\"Marks: {self.marks}\")\n",
    "\n",
    "    def is_passed(self):\n",
    "        if self.marks >= 40:\n",
    "            print(\"True.\")\n",
    "        else:\n",
    "            print(\"False.\")\n",
    "\n",
    "# Taking the input\n",
    "student1 = Student(\"Susmita\", 38, 70)  \n",
    "student1.display_details()\n",
    "\n",
    "student2 = Student(\"Susmita\", 38, 70)  # input = 70\n",
    "student2.is_passed()\n",
    "\n"
   ]
  },
  {
   "cell_type": "markdown",
   "metadata": {},
   "source": [
    "# Circle class"
   ]
  },
  {
   "cell_type": "code",
   "execution_count": null,
   "metadata": {},
   "outputs": [
    {
     "name": "stdout",
     "output_type": "stream",
     "text": [
      "Area of cirlce: 113.04\n",
      "Circumference of Circle: 113.04\n"
     ]
    }
   ],
   "source": [
    "class Circle:\n",
    "    def __init__(self, radius):\n",
    "        self.radius = radius   # initialize the radius attribute\n",
    "        \n",
    "\n",
    "    def area(self):\n",
    "        return 3.14 * self.radius **2     # method to calculate the area of circle\n",
    "\n",
    "    def circumference(self):\n",
    "        return 2 * .14 * self.radius     # method to calculate the circumference of circle\n",
    "    \n",
    "# Input from the user\n",
    "radius = float(input(\"Enter the radius of the circle:\"))   # input = 6\n",
    "\n",
    "circle1 = Circle(radius)\n",
    "print(\"Area of cirlce:\", circle1.area())\n",
    "print(\"Circumference of Circle:\", circle1.area())"
   ]
  },
  {
   "cell_type": "markdown",
   "metadata": {},
   "source": [
    "# BankAccount class"
   ]
  },
  {
   "cell_type": "code",
   "execution_count": 8,
   "metadata": {},
   "outputs": [
    {
     "name": "stdout",
     "output_type": "stream",
     "text": [
      "Current balance: 10000\n",
      "Deposited: 500. Current balance: 10500\n",
      "Withdrawn: 100. Current balance: 10400\n",
      "Current balance: 10400\n"
     ]
    }
   ],
   "source": [
    "class BankAccount:\n",
    "    def __init__(self, account_number, account_holder, balance = 0):\n",
    "        self.account_number = account_number\n",
    "        self.account_holder = account_holder\n",
    "        self.balance = balance\n",
    "\n",
    "    def deposit(self, amount):\n",
    "        if amount > 0:\n",
    "            self.balance += amount\n",
    "            print(f\"Deposited: {amount}. Current balance: {self.balance}\")\n",
    "        else:\n",
    "            print(\"Deposit amount must be positive.\")\n",
    "\n",
    "    def withdraw(self, amount):\n",
    "        if amount > 0:\n",
    "            if amount <= self.balance:\n",
    "                self.balance -= amount\n",
    "                print(f\"Withdrawn: {amount}. Current balance: {self.balance}\")\n",
    "            else:\n",
    "                print(\"Insufficient balance for withdrawal.\")\n",
    "        else:\n",
    "            print(\"Withdrawal amount must be positive.\")\n",
    "\n",
    "\n",
    "    def display_balance(self):\n",
    "        print(f\"Current balance: {self.balance}\")   #method to display the current balance\n",
    "\n",
    "account1 = BankAccount(12345670724, \"Susmita\", 10000)   # create BankAccount object\n",
    "account1.display_balance()   # display the total balance\n",
    "account1.deposit(500)   # deposit money into the account\n",
    "account1.withdraw(100)    # withdraw money from the account\n",
    "account1.display_balance()    #display the final total balance"
   ]
  },
  {
   "cell_type": "markdown",
   "metadata": {},
   "source": [
    "# Book class"
   ]
  },
  {
   "cell_type": "code",
   "execution_count": 6,
   "metadata": {},
   "outputs": [
    {
     "name": "stdout",
     "output_type": "stream",
     "text": [
      "Before Discount:\n",
      "Title: The Bible\n",
      "Author: God\n",
      "Price: 5000\n",
      "Discount of 70% applied. New price: 1500.0\n",
      "\n",
      "After Discount:\n",
      "Title: The Bible\n",
      "Author: God\n",
      "Price: 1500.0\n"
     ]
    }
   ],
   "source": [
    "class Book:\n",
    "    def __init__(self, title, author, price):   # initialize the attributes\n",
    "        self.title = title\n",
    "        self.author = author\n",
    "        self.price = price\n",
    "\n",
    "    def apply_discount(self, discount):\n",
    "        if 0 <= discount <=100:\n",
    "            discount_amount = (self.price * discount) / 100\n",
    "            self.price -= discount_amount\n",
    "            print(f\"Discount of {discount}% applied. New price: {self.price}\")\n",
    "        else:\n",
    "            print(\"Invalid discount percentage. It should be between 0 and 100.\")\n",
    "    \n",
    "    def display_details(self):        # method to display the book details\n",
    "        print(f\"Title: {self.title}\")\n",
    "        print(f\"Author: {self.author}\")\n",
    "        print(f\"Price: {self.price}\")\n",
    "\n",
    "book1 = Book(\"The Bible\", \"God\", 5000)\n",
    "print(\"Before Discount:\")\n",
    "book1.display_details()\n",
    "\n",
    "book1.apply_discount(70)\n",
    "\n",
    "print(\"\\nAfter Discount:\")\n",
    "book1.display_details()"
   ]
  },
  {
   "cell_type": "markdown",
   "metadata": {},
   "source": [
    "# Calculator class"
   ]
  },
  {
   "cell_type": "code",
   "execution_count": 5,
   "metadata": {},
   "outputs": [
    {
     "name": "stdout",
     "output_type": "stream",
     "text": [
      "Addition: 14\n",
      "Subraction: 2\n",
      "Multiplication: 48\n",
      "Division: 2.0\n"
     ]
    }
   ],
   "source": [
    "class Calculator:\n",
    "    def add(self, a, b):  # method to add two numbers\n",
    "        return a + b\n",
    "\n",
    "    def subract(self, a, b):  # method to subract two numbers\n",
    "        return a - b\n",
    "    \n",
    "    def multiply(self, a, b):  # method to multiply two numbers\n",
    "        return a * b\n",
    "    \n",
    "    def divide(self, a, b):   # method to divide two numbers\n",
    "        if b == 0:\n",
    "            return \"Error:Division by zero is not allowed.\"\n",
    "        else:\n",
    "            return a/b\n",
    "        \n",
    "calculator1 = Calculator()\n",
    "\n",
    "print(\"Addition:\", calculator1.add(5,9))\n",
    "print(\"Subraction:\", calculator1.subract(6,4))\n",
    "print(\"Multiplication:\", calculator1.multiply(8,6))\n",
    "print(\"Division:\", calculator1.divide(4,2))"
   ]
  },
  {
   "cell_type": "markdown",
   "metadata": {},
   "source": [
    "# Person class"
   ]
  },
  {
   "cell_type": "code",
   "execution_count": 4,
   "metadata": {},
   "outputs": [
    {
     "name": "stdout",
     "output_type": "stream",
     "text": [
      "Hello, my name is Susmita, I am 18 years old, and I am Female.\n",
      "Hello, my name is Sumitra, I am 25 years old, I am Female and I work as a Teacher.\n"
     ]
    }
   ],
   "source": [
    "# class Person\n",
    "class Person:\n",
    "    def __init__(self, name, age, gender):    #initialize the attributes\n",
    "        self.name = name\n",
    "        self.age = age\n",
    "        self.gender = gender\n",
    "\n",
    "    def introduce(self):\n",
    "        print(f\"Hello, my name is {self.name}, I am {self.age} years old, and I am {self.gender}.\")\n",
    "\n",
    "#subclass Employee\n",
    "class Employee(Person):\n",
    "    def __init__(self, name, age, gender, job_title): \n",
    "        super().__init__(name, age, gender)\n",
    "        self.job_title = job_title\n",
    "\n",
    "    def introduce(self):\n",
    "        print(f\"Hello, my name is {self.name}, I am {self.age} years old, I am {self.gender} and I work as a {self.job_title}.\")\n",
    "\n",
    "# Example for person class\n",
    "person1 = Person(\"Susmita\", 18, \"Female\")\n",
    "person1.introduce()\n",
    "\n",
    "# Example for subclass employee\n",
    "employee1 = Employee(\"Sumitra\", 25, \"Female\", \"Teacher\")\n",
    "employee1.introduce()"
   ]
  },
  {
   "cell_type": "markdown",
   "metadata": {},
   "source": [
    "# Additional Assignment:"
   ]
  },
  {
   "cell_type": "markdown",
   "metadata": {},
   "source": [
    "# Employee class"
   ]
  },
  {
   "cell_type": "code",
   "execution_count": 14,
   "metadata": {},
   "outputs": [
    {
     "name": "stdout",
     "output_type": "stream",
     "text": [
      "Name = susmita\n",
      "Position = teacher\n",
      "Salary = 40000.0\n"
     ]
    }
   ],
   "source": [
    "class Employee:\n",
    "    def __init__(self):\n",
    "        self.name = \"\"\n",
    "        self.position = \"\"\n",
    "        self.salary = 0\n",
    "\n",
    "#Ask user for input\n",
    "    def user_input(self):\n",
    "       self.name = input(\"Enter employee name:\")\n",
    "       self.position = input(\"Enter employee position:\")\n",
    "       self.salary = float(input(\"Enter employee salary:\"))\n",
    "\n",
    "    def display(self):\n",
    "        print(f\"Name = {self.name}\")\n",
    "        print(f\"Position = {self.position}\")\n",
    "        print(f\"Salary = {self.salary}\")\n",
    "\n",
    "employee1 = Employee()\n",
    "employee1.user_input()\n",
    "employee1.display()\n"
   ]
  },
  {
   "cell_type": "code",
   "execution_count": 7,
   "metadata": {},
   "outputs": [
    {
     "name": "stdout",
     "output_type": "stream",
     "text": [
      "Employee Name = Susmita\n",
      "Position = Teacher\n",
      "Salary = 30000\n"
     ]
    }
   ],
   "source": [
    "class Employee:\n",
    "    def __init__(self, name, position, salary):\n",
    "        self.name = name\n",
    "        self.position = position\n",
    "        self.salary = salary\n",
    "\n",
    "    def display(self):\n",
    "        print(f\"Employee Name = {self.name}\")\n",
    "        print(f\"Position = {self.position}\")\n",
    "        print(f\"Salary = {self.salary}\")\n",
    "        \n",
    "# parameter passing\n",
    "employee1 = Employee(\"Susmita\", \"Teacher\", 30000)\n",
    "employee1.display()"
   ]
  },
  {
   "cell_type": "code",
   "execution_count": null,
   "metadata": {},
   "outputs": [],
   "source": []
  }
 ],
 "metadata": {
  "kernelspec": {
   "display_name": "Python 3",
   "language": "python",
   "name": "python3"
  },
  "language_info": {
   "codemirror_mode": {
    "name": "ipython",
    "version": 3
   },
   "file_extension": ".py",
   "mimetype": "text/x-python",
   "name": "python",
   "nbconvert_exporter": "python",
   "pygments_lexer": "ipython3",
   "version": "3.11.0"
  }
 },
 "nbformat": 4,
 "nbformat_minor": 2
}
