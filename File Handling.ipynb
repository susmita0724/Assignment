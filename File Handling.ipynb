{
 "cells": [
  {
   "cell_type": "markdown",
   "metadata": {},
   "source": [
    "# File Creation and Writing"
   ]
  },
  {
   "cell_type": "code",
   "execution_count": 4,
   "metadata": {},
   "outputs": [
    {
     "name": "stdout",
     "output_type": "stream",
     "text": [
      "1\n",
      "2\n",
      "3\n",
      "4\n",
      "5\n",
      "6\n",
      "7\n",
      "8\n",
      "9\n",
      "10\n",
      "\n"
     ]
    }
   ],
   "source": [
    "file = open('data.txt', 'w')    # opens the file for writing\n",
    "for number in range(1, 11):  # iterates numbe from 1 to 10 in each new line\n",
    "    file.write(f\"{number}\\n\")\n",
    "file.close()     # closes the file after writing\n",
    "\n",
    "file = open('data.txt', 'r')      #opens the file for reading\n",
    "content = file.read()\n",
    "print(content)   # print the contents of file\n",
    "file.close()     # closes the file after reading"
   ]
  },
  {
   "cell_type": "markdown",
   "metadata": {},
   "source": [
    "# Word Count in File"
   ]
  },
  {
   "cell_type": "code",
   "execution_count": 5,
   "metadata": {},
   "outputs": [
    {
     "name": "stdout",
     "output_type": "stream",
     "text": [
      "Error: The file 'smaple.txt' was not found.\n"
     ]
    }
   ],
   "source": [
    "try:\n",
    "    file = open('sample.txt', 'r')      #opens the file for reading\n",
    "    content = file.read()   # read the content of the file\n",
    "    words = content.split()     # split the content into words \n",
    "    word_count = len(words)     # count the number of words\n",
    "    print(f\"The number of words in 'sample.txt' is: {word_count}\")     # print the word count\n",
    "    file.close()   # close the file after reading\n",
    "\n",
    "except FileNotFoundError:\n",
    "    print(\"Error: The file 'smaple.txt' was not found.\")"
   ]
  }
 ],
 "metadata": {
  "kernelspec": {
   "display_name": "Python 3",
   "language": "python",
   "name": "python3"
  },
  "language_info": {
   "codemirror_mode": {
    "name": "ipython",
    "version": 3
   },
   "file_extension": ".py",
   "mimetype": "text/x-python",
   "name": "python",
   "nbconvert_exporter": "python",
   "pygments_lexer": "ipython3",
   "version": "3.11.0"
  }
 },
 "nbformat": 4,
 "nbformat_minor": 2
}
