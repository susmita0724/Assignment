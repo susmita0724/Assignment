{
 "cells": [
  {
   "cell_type": "markdown",
   "metadata": {},
   "source": [
    "# Asks the user to enter a number and check if it is even or Odd"
   ]
  },
  {
   "cell_type": "code",
   "execution_count": 1,
   "metadata": {},
   "outputs": [
    {
     "name": "stdout",
     "output_type": "stream",
     "text": [
      "6 is an even number.\n"
     ]
    }
   ],
   "source": [
    "num=int(input(\"Enter a number:\")) #input number from thr user\n",
    "if num%2==0:\n",
    "    print(f\"{num} is an even number.\")\n",
    "else:\n",
    "    print(f\"{num} is an odd number.\")"
   ]
  },
  {
   "cell_type": "markdown",
   "metadata": {},
   "source": [
    "# Asks the user to enter a number and check if it is positive, negative or zero."
   ]
  },
  {
   "cell_type": "code",
   "execution_count": 2,
   "metadata": {},
   "outputs": [
    {
     "name": "stdout",
     "output_type": "stream",
     "text": [
      "The number is positive.\n"
     ]
    }
   ],
   "source": [
    "num=float(input(\"Enter a number:\")) #input number from the user\n",
    "#conditional sattements to check the number\n",
    "if num>0:\n",
    "    print(\"The number is positive.\")\n",
    "elif num<0:\n",
    "    print(\"The number is negative.\")\n",
    "else:\n",
    "    print(\"The number is zero.\")\n"
   ]
  },
  {
   "cell_type": "markdown",
   "metadata": {},
   "source": [
    "# Asks the user to enter their age and check if they are eligible to vote."
   ]
  },
  {
   "cell_type": "code",
   "execution_count": 3,
   "metadata": {},
   "outputs": [
    {
     "name": "stdout",
     "output_type": "stream",
     "text": [
      "You are eligible to vote.\n"
     ]
    }
   ],
   "source": [
    "age=int(input(\"Enter age:\")) #input number from the user\n",
    "if age>=18:\n",
    "    print(\"You are eligible to vote.\")\n",
    "else:\n",
    "    print(\"You are not eligible to vote.\")\n"
   ]
  },
  {
   "cell_type": "markdown",
   "metadata": {},
   "source": [
    "# Takes the lengths of three sides of a triangle as input"
   ]
  },
  {
   "cell_type": "code",
   "execution_count": 11,
   "metadata": {},
   "outputs": [
    {
     "name": "stdout",
     "output_type": "stream",
     "text": [
      "Isosceles.\n"
     ]
    }
   ],
   "source": [
    "# input three sides of a triangle\n",
    "a=int(input(\"Enter first side of a triangle:\"))\n",
    "b=int(input(\"Enter second side of a triangle:\"))\n",
    "c=int(input(\"Enter third side of a triangle:\"))\n",
    "# conditions\n",
    "if a == b == c:\n",
    "    print(\"Equilateral.\")\n",
    "elif a == b or b == c or a == c:\n",
    "    print(\"Isosceles.\")\n",
    "else:\n",
    "    print(\"Scalene.\")"
   ]
  },
  {
   "cell_type": "markdown",
   "metadata": {},
   "source": [
    "# Asks the user to enter a password and checks if it matches a predefined one."
   ]
  },
  {
   "cell_type": "code",
   "execution_count": 13,
   "metadata": {},
   "outputs": [
    {
     "name": "stdout",
     "output_type": "stream",
     "text": [
      "Incorrect password!\n"
     ]
    }
   ],
   "source": [
    "# predefined password\n",
    "predefined_password=\"Python123\"\n",
    "\n",
    "# input password from the user\n",
    "password=input(\"Enter your password:\")\n",
    "\n",
    "#conditions\n",
    "if password == predefined_password:\n",
    "    print(\"Password is correct!\")\n",
    "else:\n",
    "    print(\"Incorrect password!\")"
   ]
  },
  {
   "cell_type": "markdown",
   "metadata": {},
   "source": [
    "# For loop:"
   ]
  },
  {
   "cell_type": "markdown",
   "metadata": {},
   "source": [
    "# Multiplication table using for loop"
   ]
  },
  {
   "cell_type": "code",
   "execution_count": 15,
   "metadata": {},
   "outputs": [
    {
     "name": "stdout",
     "output_type": "stream",
     "text": [
      "5\n",
      "10\n",
      "15\n",
      "20\n",
      "25\n",
      "30\n",
      "35\n",
      "40\n",
      "45\n",
      "50\n"
     ]
    }
   ],
   "source": [
    "for i in range(5, 55, 5):   # (start, stop, step)\n",
    "    print(i)"
   ]
  },
  {
   "cell_type": "markdown",
   "metadata": {},
   "source": [
    "# Count Vowels"
   ]
  },
  {
   "cell_type": "code",
   "execution_count": null,
   "metadata": {},
   "outputs": [
    {
     "name": "stdout",
     "output_type": "stream",
     "text": [
      "The number of vowel in given string is:3\n"
     ]
    }
   ],
   "source": [
    "user_input = input(\"Enter string:\") #input string from user\n",
    "vowels = \"aeiouAEIOU\" # vowels in both uppercase and lowercase\n",
    "count = 0\n",
    "\n",
    "for char in user_input:\n",
    "    if char in vowels:  # check if the character is vowel\n",
    "        count += 1\n",
    "   \n",
    "print(f\"The number of vowel in given string is:{count}\")"
   ]
  },
  {
   "cell_type": "markdown",
   "metadata": {},
   "source": [
    "# Sum of even numbers"
   ]
  },
  {
   "cell_type": "code",
   "execution_count": 5,
   "metadata": {},
   "outputs": [
    {
     "name": "stdout",
     "output_type": "stream",
     "text": [
      "The sum of all even number in the list is: 10\n"
     ]
    }
   ],
   "source": [
    "numbers = [2, 5, 8, 3] #input\n",
    "even_sum = 0 # variable to store the sum of even numbers\n",
    "for num in numbers:\n",
    "    if num % 2 == 0:\n",
    "        even_sum += num\n",
    "print(f\"The sum of all even number in the list is: {even_sum}\") #Output:10"
   ]
  },
  {
   "cell_type": "markdown",
   "metadata": {},
   "source": [
    "# To find the largest and smallest numbers in a list"
   ]
  },
  {
   "cell_type": "code",
   "execution_count": 6,
   "metadata": {},
   "outputs": [
    {
     "name": "stdout",
     "output_type": "stream",
     "text": [
      "The largest number in the list is: 20\n",
      "The smallest number in the list is: 5\n"
     ]
    }
   ],
   "source": [
    "numbers = [10, 20, 5, 8] # input\n",
    "largest = numbers[0]\n",
    "smallest = numbers[0]\n",
    "# loop through each number in the list\n",
    "for num in numbers:\n",
    "    if num > largest:\n",
    "        largest = num\n",
    "    if num < smallest:\n",
    "        smallest = num\n",
    "\n",
    "print(f\"The largest number in the list is: {largest}\") #output:20\n",
    "print(f\"The smallest number in the list is: {smallest}\") #output:5\n"
   ]
  },
  {
   "cell_type": "markdown",
   "metadata": {},
   "source": [
    "# Sum of digits"
   ]
  },
  {
   "cell_type": "code",
   "execution_count": 7,
   "metadata": {},
   "outputs": [
    {
     "name": "stdout",
     "output_type": "stream",
     "text": [
      "The sum of the digits of 1234 is: 10\n"
     ]
    }
   ],
   "source": [
    "number = 1234  #given input\n",
    "digit_sum = 0\n",
    "#loop through each digit in the number\n",
    "for digit in str(number):\n",
    "    digit_sum += int(digit)\n",
    "print(f\"The sum of the digits of {number} is: {digit_sum}\") # output=10"
   ]
  },
  {
   "cell_type": "markdown",
   "metadata": {},
   "source": [
    "# Reverse string"
   ]
  },
  {
   "cell_type": "code",
   "execution_count": 8,
   "metadata": {},
   "outputs": [
    {
     "name": "stdout",
     "output_type": "stream",
     "text": [
      "The reversed string is: nohtyP\n"
     ]
    }
   ],
   "source": [
    "input_string = \"Python\" # input\n",
    "reversed_string =\"\" # initialize an empty string\n",
    "# loop through the input string in reverse order\n",
    "for char in input_string:\n",
    "    reversed_string = char + reversed_string\n",
    "print(f\"The reversed string is: {reversed_string}\") # display the output"
   ]
  },
  {
   "cell_type": "code",
   "execution_count": null,
   "metadata": {},
   "outputs": [],
   "source": []
  }
 ],
 "metadata": {
  "kernelspec": {
   "display_name": "Python 3",
   "language": "python",
   "name": "python3"
  },
  "language_info": {
   "codemirror_mode": {
    "name": "ipython",
    "version": 3
   },
   "file_extension": ".py",
   "mimetype": "text/x-python",
   "name": "python",
   "nbconvert_exporter": "python",
   "pygments_lexer": "ipython3",
   "version": "3.11.0"
  }
 },
 "nbformat": 4,
 "nbformat_minor": 2
}
